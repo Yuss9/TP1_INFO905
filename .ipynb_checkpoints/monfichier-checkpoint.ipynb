{
 "cells": [
  {
   "cell_type": "code",
   "execution_count": 8,
   "metadata": {},
   "outputs": [
    {
     "ename": "ModuleNotFoundError",
     "evalue": "No module named 'pandas'",
     "output_type": "error",
     "traceback": [
      "\u001b[0;31m---------------------------------------------------------------------------\u001b[0m",
      "\u001b[0;31mModuleNotFoundError\u001b[0m                       Traceback (most recent call last)",
      "\u001b[1;32m/Users/yuss/Documents/cours_m2/machineLearning/tp1/monfichier.ipynb Cellule 1\u001b[0m line \u001b[0;36m6\n\u001b[1;32m      <a href='vscode-notebook-cell:/Users/yuss/Documents/cours_m2/machineLearning/tp1/monfichier.ipynb#W0sZmlsZQ%3D%3D?line=1'>2</a>\u001b[0m sys\u001b[39m.\u001b[39mexecutable\n\u001b[1;32m      <a href='vscode-notebook-cell:/Users/yuss/Documents/cours_m2/machineLearning/tp1/monfichier.ipynb#W0sZmlsZQ%3D%3D?line=4'>5</a>\u001b[0m \u001b[39m# Importer la librairie Pandas\u001b[39;00m\n\u001b[0;32m----> <a href='vscode-notebook-cell:/Users/yuss/Documents/cours_m2/machineLearning/tp1/monfichier.ipynb#W0sZmlsZQ%3D%3D?line=5'>6</a>\u001b[0m \u001b[39mimport\u001b[39;00m \u001b[39mpandas\u001b[39;00m \u001b[39mas\u001b[39;00m \u001b[39mpd\u001b[39;00m\n\u001b[1;32m      <a href='vscode-notebook-cell:/Users/yuss/Documents/cours_m2/machineLearning/tp1/monfichier.ipynb#W0sZmlsZQ%3D%3D?line=7'>8</a>\u001b[0m \u001b[39m# Charger les données depuis le fichier CSV\u001b[39;00m\n\u001b[1;32m      <a href='vscode-notebook-cell:/Users/yuss/Documents/cours_m2/machineLearning/tp1/monfichier.ipynb#W0sZmlsZQ%3D%3D?line=8'>9</a>\u001b[0m donnees \u001b[39m=\u001b[39m pd\u001b[39m.\u001b[39mread_csv(\u001b[39m\"\u001b[39m\u001b[39mhousing.csv\u001b[39m\u001b[39m\"\u001b[39m)\n",
      "\u001b[0;31mModuleNotFoundError\u001b[0m: No module named 'pandas'"
     ]
    }
   ],
   "source": [
    "# Importer la librairie Pandas\n",
    "import pandas as pd\n",
    "\n",
    "# Charger les données depuis le fichier CSV\n",
    "donnees = pd.read_csv(\"housing.csv\")\n",
    "\n",
    "# Afficher les premières lignes du DataFrame\n",
    "print(\"Les premières lignes du DataFrame :\")\n",
    "print(donnees.head())\n",
    "\n",
    "# Obtenir des informations sur le DataFrame (nombre de variables, types, etc.)\n",
    "print(\"\\nInformations sur le DataFrame :\")\n",
    "donnees.info()\n",
    "\n",
    "# Compter les occurrences de chaque valeur dans une colonne spécifique\n",
    "print(\"\\nOccurrences des valeurs dans une colonne spécifique :\")\n",
    "print(donnees['Nom_de_la_colonne'].value_counts())\n",
    "\n",
    "# Obtenir des statistiques descriptives pour le DataFrame\n",
    "print(\"\\nStatistiques descriptives pour le DataFrame :\")\n",
    "print(donnees.describe())\n",
    "\n",
    "# Compter le nombre de valeurs non nulles dans chaque colonne\n",
    "print(\"\\nNombre de valeurs non nulles dans chaque colonne :\")\n",
    "print(donnees.count())\n",
    "\n",
    "# Calculer la moyenne pour chaque colonne numérique\n",
    "print(\"\\nMoyenne pour chaque colonne numérique :\")\n",
    "print(donnees.mean())\n",
    "\n",
    "# Trouver la valeur minimale dans chaque colonne numérique\n",
    "print(\"\\nValeur minimale dans chaque colonne numérique :\")\n",
    "print(donnees.min())\n",
    "\n",
    "# Trouver la valeur maximale dans chaque colonne numérique\n",
    "print(\"\\nValeur maximale dans chaque colonne numérique :\")\n",
    "print(donnees.max())\n",
    "\n",
    "nb_variables = donnees.shape[1]\n",
    "print(f\"Il y a {nb_variables} variables.\")\n",
    "\n",
    "\n",
    "types_variables = donnees.dtypes\n",
    "print(\"Types de variables :\")\n",
    "print(types_variables)\n",
    "\n",
    "\n",
    "donnees_manquantes = donnees.isnull().sum()\n",
    "print(\"Données manquantes par variable :\")\n",
    "print(donnees_manquantes)\n",
    "\n"
   ]
  },
  {
   "cell_type": "code",
   "execution_count": null,
   "metadata": {},
   "outputs": [],
   "source": []
  }
 ],
 "metadata": {
  "kernelspec": {
   "display_name": "Python 3 (ipykernel)",
   "language": "python",
   "name": "python3"
  },
  "language_info": {
   "codemirror_mode": {
    "name": "ipython",
    "version": 3
   },
   "file_extension": ".py",
   "mimetype": "text/x-python",
   "name": "python",
   "nbconvert_exporter": "python",
   "pygments_lexer": "ipython3",
   "version": "3.12.0"
  }
 },
 "nbformat": 4,
 "nbformat_minor": 2
}
